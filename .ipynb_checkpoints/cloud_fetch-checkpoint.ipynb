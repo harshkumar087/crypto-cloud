{
 "cells": [
  {
   "cell_type": "code",
   "execution_count": 1,
   "id": "f1e2f3ff-a707-4162-8907-72cbd5899c52",
   "metadata": {},
   "outputs": [],
   "source": [
    "from sqlalchemy import create_engine\n",
    "import pandas as pd\n",
    "import os\n",
    "from time import time\n",
    "from time import sleep"
   ]
  },
  {
   "cell_type": "code",
   "execution_count": 2,
   "id": "33862224-a869-4dee-aff8-0a2b82f1ead4",
   "metadata": {},
   "outputs": [],
   "source": [
    "# DB credentials\n",
    "\n",
    "db_url = os.getenv( 'SUPA_URL' )\n",
    "\n",
    "# Create engine\n",
    "engine = create_engine(db_url)\n"
   ]
  },
  {
   "cell_type": "code",
   "execution_count": 3,
   "id": "de44eb42-ff0a-481d-a860-c06e73efea0e",
   "metadata": {
    "editable": true,
    "scrolled": true,
    "slideshow": {
     "slide_type": ""
    },
    "tags": []
   },
   "outputs": [],
   "source": [
    "def automation():\n",
    "    from requests import Request, Session\n",
    "    from requests.exceptions import ConnectionError, Timeout, TooManyRedirects\n",
    "    import json\n",
    "    \n",
    "    url = 'https://pro-api.coinmarketcap.com/v1/cryptocurrency/listings/latest'\n",
    "    parameters = {\n",
    "      'start':'1',\n",
    "      'limit':'20',\n",
    "      'convert':'USD'\n",
    "    }\n",
    "    headers = {\n",
    "      'Accepts': 'application/json',\n",
    "      'X-CMC_PRO_API_KEY': os.getenv( 'API_KEY' ),\n",
    "    }\n",
    "    \n",
    "    session = Session()\n",
    "    session.headers.update(headers)\n",
    "    \n",
    "    try:\n",
    "      response = session.get(url, params=parameters)\n",
    "      data = json.loads(response.text)\n",
    "      #print(data)\n",
    "    except (ConnectionError, Timeout, TooManyRedirects) as e:\n",
    "      print(e)\n",
    "    \n",
    "    df = pd.json_normalize(data['data'])\n",
    "    df['timestamp'] = pd.to_datetime('now')\n",
    "    df.to_sql('crypto_table', engine, if_exists='append', index=False)\n",
    "   # if not os.path.isfile( r'/Users/harshkumar/Desktop/DA Projects/crypto_data/api_data.csv' ):\n",
    "    #    df.to_csv( r'/Users/harshkumar/Desktop/DA Projects/crypto_data/api_data.csv', header = True, index = False )\n",
    "   # else:\n",
    "    #    df.to_csv( r'/Users/harshkumar/Desktop/DA Projects/crypto_data/api_data.csv', mode = 'a', header = False, index = False )"
   ]
  },
  {
   "cell_type": "code",
   "execution_count": 4,
   "id": "d6702a2d-9b32-40af-bad6-3d690c3bea85",
   "metadata": {},
   "outputs": [
    {
     "name": "stdout",
     "output_type": "stream",
     "text": [
      "queue: 0\n",
      "queue: 1\n",
      "queue: 2\n",
      "queue: 3\n",
      "queue: 4\n",
      "queue: 5\n",
      "queue: 6\n",
      "queue: 7\n",
      "queue: 8\n",
      "queue: 9\n",
      "queue: 10\n",
      "queue: 11\n",
      "queue: 12\n",
      "queue: 13\n",
      "queue: 14\n",
      "queue: 15\n",
      "queue: 16\n",
      "queue: 17\n",
      "queue: 18\n",
      "queue: 19\n",
      "queue: 20\n",
      "queue: 21\n",
      "queue: 22\n",
      "queue: 23\n",
      "queue: 24\n",
      "queue: 25\n",
      "queue: 26\n",
      "queue: 27\n",
      "queue: 28\n",
      "queue: 29\n",
      "queue: 30\n",
      "queue: 31\n",
      "queue: 32\n",
      "queue: 33\n",
      "queue: 34\n",
      "queue: 35\n",
      "queue: 36\n",
      "queue: 37\n",
      "queue: 38\n"
     ]
    },
    {
     "ename": "KeyboardInterrupt",
     "evalue": "",
     "output_type": "error",
     "traceback": [
      "\u001b[0;31m---------------------------------------------------------------------------\u001b[0m",
      "\u001b[0;31mKeyboardInterrupt\u001b[0m                         Traceback (most recent call last)",
      "Cell \u001b[0;32mIn[4], line 4\u001b[0m\n\u001b[1;32m      2\u001b[0m     automation()\n\u001b[1;32m      3\u001b[0m     \u001b[38;5;28mprint\u001b[39m(\u001b[38;5;124m'\u001b[39m\u001b[38;5;124mqueue:\u001b[39m\u001b[38;5;124m'\u001b[39m,i)\n\u001b[0;32m----> 4\u001b[0m     sleep(\u001b[38;5;241m120\u001b[39m)\n\u001b[1;32m      5\u001b[0m exit()\n",
      "\u001b[0;31mKeyboardInterrupt\u001b[0m: "
     ]
    }
   ],
   "source": [
    "for i in range (300):\n",
    "    automation()\n",
    "    print('queue:',i)\n",
    "    sleep(120)\n",
    "exit()"
   ]
  },
  {
   "cell_type": "code",
   "execution_count": null,
   "id": "dbe98dae-1acf-4192-ac44-bd28f0105b87",
   "metadata": {},
   "outputs": [],
   "source": [
    "#type (data)\n",
    "#pd.set_option('display.max_columns', None)\n",
    "#pd.set_option('display.max_rows', None)"
   ]
  },
  {
   "cell_type": "code",
   "execution_count": null,
   "id": "7a00e6c3-1ca6-45df-8f2d-49224d0b1ac2",
   "metadata": {},
   "outputs": [],
   "source": []
  }
 ],
 "metadata": {
  "kernelspec": {
   "display_name": "Python 3 (ipykernel)",
   "language": "python",
   "name": "python3"
  },
  "language_info": {
   "codemirror_mode": {
    "name": "ipython",
    "version": 3
   },
   "file_extension": ".py",
   "mimetype": "text/x-python",
   "name": "python",
   "nbconvert_exporter": "python",
   "pygments_lexer": "ipython3",
   "version": "3.12.7"
  }
 },
 "nbformat": 4,
 "nbformat_minor": 5
}
